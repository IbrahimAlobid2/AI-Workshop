{
 "cells": [
  {
   "cell_type": "markdown",
   "id": "3fdb12cc-e47d-46f9-87e8-c9adc071ec98",
   "metadata": {},
   "source": [
    "# import Libraries "
   ]
  },
  {
   "cell_type": "code",
   "execution_count": 1,
   "id": "34774714-53f0-4520-b39b-c9186626d9aa",
   "metadata": {},
   "outputs": [],
   "source": [
    "import os\n",
    "from dotenv import find_dotenv, load_dotenv\n",
    "from langchain.agents import Tool, initialize_agent, load_tools\n"
   ]
  },
  {
   "cell_type": "code",
   "execution_count": 2,
   "id": "de71d503-ec43-4e2b-99c5-bb77a3d99a18",
   "metadata": {},
   "outputs": [],
   "source": [
    "from langchain_groq import ChatGroq\n",
    "from IPython.display import Markdown, display"
   ]
  },
  {
   "cell_type": "code",
   "execution_count": 3,
   "id": "76d8eeeb-e5e9-4b29-959b-039ac100c819",
   "metadata": {},
   "outputs": [],
   "source": [
    "load_dotenv()\n",
    "GROQ_API = os.getenv(\"GROQ_API_KEY\")\n",
    "model_name = 'gemma2-9b-it'\n",
    "\n",
    "\n",
    "llm  =  ChatGroq(api_key=GROQ_API,\n",
    "    model_name=model_name,\n",
    "    temperature=0.0,\n",
    "    \n",
    ")"
   ]
  },
  {
   "cell_type": "code",
   "execution_count": 4,
   "id": "f3db6933-8e26-414d-a236-0234433d8843",
   "metadata": {},
   "outputs": [
    {
     "name": "stdout",
     "output_type": "stream",
     "text": [
      "Calculator Useful for when you need to answer questions about math.\n"
     ]
    }
   ],
   "source": [
    "tools = load_tools(\n",
    "    ['llm-math'],\n",
    "    llm=llm\n",
    ")\n",
    "\n",
    "print(tools[0].name, tools[0].description)"
   ]
  },
  {
   "cell_type": "code",
   "execution_count": 8,
   "id": "5bd0f7b4-fb99-434b-8ca8-e9c702b2b791",
   "metadata": {},
   "outputs": [],
   "source": [
    "agent = initialize_agent(\n",
    "    agent=\"zero-shot-react-description\",\n",
    "    tools=tools,\n",
    "    llm=llm,\n",
    "    verbose=True,\n",
    "    max_iterations=3 # to avoid high bills from the LLM\n",
    ")\n"
   ]
  },
  {
   "attachments": {},
   "cell_type": "markdown",
   "id": "997e7b8e-40cd-4b08-aa72-b43433087a77",
   "metadata": {},
   "source": [
    "## ReAct framework = Reasoning and Action\n",
    "\n",
    "## ReAct Methodology\u000b",
    "\r\n",
    "The chatbot employs a step-by-step reasoning approach to interpret and respond to user prompts:\u000b",
    "\r\n",
    "1. Thought: Analyze the prompt internally.\r\n",
    "2. Action: Execute an action, such as calling a tool (SQL or image processing).\r\n",
    "3. Observation: Incorporate the tool’s output into subsequent reasoning steps.\r\n",
    "4. Answer: Provide the final response. \r\n"
   ]
  },
  {
   "cell_type": "code",
   "execution_count": 9,
   "id": "70355f91-22fa-4d5f-ae4b-eea618bd0e43",
   "metadata": {},
   "outputs": [
    {
     "name": "stdout",
     "output_type": "stream",
     "text": [
      "Answer the following questions as best you can. You have access to the following tools:\n",
      "\n",
      "Calculator(*args: Any, callbacks: Union[list[langchain_core.callbacks.base.BaseCallbackHandler], langchain_core.callbacks.base.BaseCallbackManager, NoneType] = None, tags: Optional[List[str]] = None, metadata: Optional[Dict[str, Any]] = None, **kwargs: Any) -> Any - Useful for when you need to answer questions about math.\n",
      "\n",
      "Use the following format:\n",
      "\n",
      "Question: the input question you must answer\n",
      "Thought: you should always think about what to do\n",
      "Action: the action to take, should be one of [Calculator]\n",
      "Action Input: the input to the action\n",
      "Observation: the result of the action\n",
      "... (this Thought/Action/Action Input/Observation can repeat N times)\n",
      "Thought: I now know the final answer\n",
      "Final Answer: the final answer to the original input question\n",
      "\n",
      "Begin!\n",
      "\n",
      "Question: {input}\n",
      "Thought:{agent_scratchpad}\n"
     ]
    }
   ],
   "source": [
    "print(agent.agent.llm_chain.prompt.template)"
   ]
  },
  {
   "cell_type": "code",
   "execution_count": 10,
   "id": "4d695bd9-ec8a-404b-9373-ba2bdc8df2d4",
   "metadata": {},
   "outputs": [
    {
     "name": "stdout",
     "output_type": "stream",
     "text": [
      "\n",
      "\n",
      "\u001b[1m> Entering new AgentExecutor chain...\u001b[0m\n",
      "\u001b[32;1m\u001b[1;3mThought: To find James's age in 50 years, I need to add 50 to his current age. To find the total number of children, I need to add the number of biological children to the number of adopted children. \n",
      "\n",
      "Action: Calculator\n",
      "Action Input: 45 + 50\u001b[0m\n",
      "Observation: \u001b[36;1m\u001b[1;3mAnswer: 95\u001b[0m\n",
      "Thought:\u001b[32;1m\u001b[1;3mThought: I now know James's age in 50 years. Now I need to add his biological children to his adopted children. \n",
      "Action: Calculator\n",
      "Action Input: 4 + 7\u001b[0m\n",
      "Observation: \u001b[36;1m\u001b[1;3mAnswer: 11\u001b[0m\n",
      "Thought:\u001b[32;1m\u001b[1;3mThought: I now know the final answer\n",
      "Final Answer: James will be 95 years old in 50 years. He has 11 children. \n",
      "\u001b[0m\n",
      "\n",
      "\u001b[1m> Finished chain.\u001b[0m\n",
      "James will be 95 years old in 50 years. He has 11 children.\n"
     ]
    }
   ],
   "source": [
    "query = \"If James is currently 45 years old, how old will he be in 50 years? \\\n",
    "    If he has 4 kids and adopted 7 more, how many children does he have?\"\n",
    "result = agent.invoke(query)\n",
    "print(result['output'])"
   ]
  },
  {
   "cell_type": "code",
   "execution_count": 12,
   "id": "dbccbf38-ce1e-48dd-bae7-2ee07f81996a",
   "metadata": {},
   "outputs": [
    {
     "name": "stdout",
     "output_type": "stream",
     "text": [
      " ChatGPT ::: 3.1 raised to the power of 2.1 can be calculated using a calculator.  \n",
      "\n",
      "Here's how to do it:\n",
      "\n",
      "* **Input:** Enter \"3.1\" followed by \"^\" (the exponent symbol), then \"2.1\".\n",
      "* **Calculate:** Press the equals button (=).\n",
      "\n",
      "The result is approximately **10.38**. \n",
      "\n",
      "\n",
      "Let me know if you'd like to calculate any other exponents! \n",
      "\n"
     ]
    }
   ],
   "source": [
    "\n",
    "#display(Markdown(f\" ChatGPT ::: {llm.predict('what is 3.1^2.1')}\"))\n",
    "print(f\" ChatGPT ::: {llm.predict('what is 3.1^2.1')}\")\n",
    "\n",
    "\n",
    "\n"
   ]
  },
  {
   "cell_type": "code",
   "execution_count": 13,
   "id": "143e4112-a8f6-4c29-9787-86cbea68d5ba",
   "metadata": {},
   "outputs": [
    {
     "name": "stdout",
     "output_type": "stream",
     "text": [
      "\n",
      "\n",
      "\u001b[1m> Entering new AgentExecutor chain...\u001b[0m\n",
      "\u001b[32;1m\u001b[1;3mThought: I can use the calculator to find the result of 3.1 raised to the power of 2.1. \n",
      "Action: Calculator\n",
      "Action Input: 3.1 ** 2.1\u001b[0m\n",
      "Observation: \u001b[36;1m\u001b[1;3mAnswer: 10.761171606099687\u001b[0m\n",
      "Thought:\u001b[32;1m\u001b[1;3mThought: I now know the final answer\n",
      "Final Answer: 10.761171606099687 \n",
      "\u001b[0m\n",
      "\n",
      "\u001b[1m> Finished chain.\u001b[0m\n",
      "10.761171606099687\n"
     ]
    }
   ],
   "source": [
    "result = agent.invoke('what is 3.1^2.1')\n",
    "print(result['output'])"
   ]
  },
  {
   "cell_type": "code",
   "execution_count": 20,
   "id": "87674168-f4fc-422d-a83a-1e056b2ed686",
   "metadata": {},
   "outputs": [],
   "source": [
    "from langchain import Wikipedia\n",
    "from langchain.agents.react.base import DocstoreExplorer"
   ]
  },
  {
   "cell_type": "code",
   "execution_count": 22,
   "id": "37878cec-b7f4-4c6d-9289-ffe493fe5d96",
   "metadata": {},
   "outputs": [],
   "source": [
    "docstore = DocstoreExplorer(Wikipedia())\n",
    "tools = [\n",
    "    Tool(\n",
    "        name=\"Search\",\n",
    "        func=docstore.search,\n",
    "        description=\"search wikipedia\"\n",
    "    ),\n",
    "    Tool(\n",
    "        name=\"Lookup\",\n",
    "        func=docstore.lookup,\n",
    "        description=\"lookup a term in wikipedia\"\n",
    "    )\n",
    "]\n"
   ]
  },
  {
   "cell_type": "code",
   "execution_count": 29,
   "id": "073175e2-c9cf-4653-9b9d-9de664a6a90d",
   "metadata": {},
   "outputs": [],
   "source": [
    "# initialize our agent\n",
    "docstore_agent = initialize_agent(\n",
    "    tools,\n",
    "    llm,\n",
    "    agent=\"react-docstore\",\n",
    "    verbose=True,\n",
    "    max_iterations=10\n",
    ")"
   ]
  },
  {
   "cell_type": "code",
   "execution_count": 30,
   "id": "7e65a8de-69a0-4dac-ad05-38aa8eabd970",
   "metadata": {
    "scrolled": true
   },
   "outputs": [
    {
     "name": "stdout",
     "output_type": "stream",
     "text": [
      "\n",
      "\n",
      "\u001b[1m> Entering new AgentExecutor chain...\u001b[0m\n",
      "\u001b[32;1m\u001b[1;3mThought: I need to search for information about Albert Einstein's beliefs. \n",
      "\n",
      "Action: Search[Albert Einstein beliefs] \n",
      "\u001b[0m\n",
      "Observation: \u001b[36;1m\u001b[1;3mAlbert Einstein's religious views have been widely studied and often misunderstood. Albert Einstein stated \"I believe in Spinoza's God\". He did not believe in a personal God who concerns himself with fates and actions of human beings, a view which he described as naïve. He clarified, however, that, \"I am not an atheist\", preferring to call himself an agnostic, or a \"religious nonbeliever.\" In other interviews, he stated that he thought that there is a \"lawgiver\" who sets the laws of the universe. Einstein also stated he did not believe in life after death, adding \"one life is enough for me.\" He was closely involved in his lifetime with several humanist groups. Einstein rejected a conflict between science and religion, and held that cosmic religion was necessary for science.\u001b[0m\n",
      "Thought:\u001b[32;1m\u001b[1;3mEinstein's main beliefs were:\n",
      "\n",
      "* **He believed in Spinoza's God:**  A God who is the underlying force of the universe, not a personal God who intervenes in human affairs.\n",
      "* **He was an agnostic:** He didn't believe in a personal God but didn't outright deny the existence of a higher power.\n",
      "* **He believed in a \"lawgiver\":**  A force that sets the laws of the universe.\n",
      "* **He didn't believe in life after death.**\n",
      "* **He was a humanist:** He was involved with humanist groups and believed in the importance of human reason and ethics.\n",
      "* **He saw no conflict between science and religion:** He believed in a \"cosmic religion\" that encompassed both science and spirituality. \n",
      "\n",
      "\n",
      "\n",
      "Action: Finish[Einstein's main beliefs were...] \n",
      "\u001b[0m\n",
      "\n",
      "\u001b[1m> Finished chain.\u001b[0m\n"
     ]
    }
   ],
   "source": [
    "query = \"What were Einstein's main beliefs?\"\n",
    "result = docstore_agent.invoke(query)"
   ]
  },
  {
   "cell_type": "code",
   "execution_count": 31,
   "id": "1528a4cf-6167-408e-b778-bf03cc0a45b9",
   "metadata": {},
   "outputs": [
    {
     "name": "stdout",
     "output_type": "stream",
     "text": [
      "\n",
      "\n",
      "Question: What is the elevation range for the area that the eastern sector of the Colorado orogeny extends into?\n",
      "Thought: I need to search Colorado orogeny, find the area that the eastern sector of the Colorado orogeny extends into, then find the elevation range of the area.\n",
      "Action: Search[Colorado orogeny]\n",
      "Observation: The Colorado orogeny was an episode of mountain building (an orogeny) in Colorado and surrounding areas.\n",
      "Thought: It does not mention the eastern sector. So I need to look up eastern sector.\n",
      "Action: Lookup[eastern sector]\n",
      "Observation: (Result 1 / 1) The eastern sector extends into the High Plains and is called the Central Plains orogeny.\n",
      "Thought: The eastern sector of Colorado orogeny extends into the High Plains. So I need to search High Plains and find its elevation range.\n",
      "Action: Search[High Plains]\n",
      "Observation: High Plains refers to one of two distinct land regions\n",
      "Thought: I need to instead search High Plains (United States).\n",
      "Action: Search[High Plains (United States)]\n",
      "Observation: The High Plains are a subregion of the Great Plains. From east to west, the High Plains rise in elevation from around 1,800 to 7,000 ft (550 to 2,130 m).[3]\n",
      "Thought: High Plains rise in elevation from around 1,800 to 7,000 ft, so the answer is 1,800 to 7,000 ft.\n",
      "Action: Finish[1,800 to 7,000 ft]\n",
      "\n",
      "Question: Musician and satirist Allie Goertz wrote a song about the \"The Simpsons\" character Milhouse, who Matt Groening named after who?\n",
      "Thought: The question simplifies to \"The Simpsons\" character Milhouse is named after who. I only need to search Milhouse and find who it is named after.\n",
      "Action: Search[Milhouse]\n",
      "Observation: Milhouse Mussolini Van Houten is a recurring character in the Fox animated television series The Simpsons voiced by Pamela Hayden and created by Matt Groening.\n",
      "Thought: The paragraph does not tell who Milhouse is named after, maybe I can look up \"named after\".\n",
      "Action: Lookup[named after]\n",
      "Observation: (Result 1 / 1) Milhouse was named after U.S. president Richard Nixon, whose middle name was Milhous.\n",
      "Thought: Milhouse was named after U.S. president Richard Nixon, so the answer is Richard Nixon.\n",
      "Action: Finish[Richard Nixon]\n",
      "\n",
      "Question: Which documentary is about Finnish rock groups, Adam Clayton Powell or The Saimaa Gesture?\n",
      "Thought: I need to search Adam Clayton Powell and The Saimaa Gesture, and find which documentary is about Finnish rock groups.\n",
      "Action: Search[Adam Clayton Powell]\n",
      "Observation: Could not find [Adam Clayton Powell]. Similar: [’Adam Clayton Powell III’, ’Seventh Avenue (Manhattan)’, ’Adam Clayton Powell Jr. State Office Building’, ’Isabel Washington Powell’, ’Adam Powell’, ’Adam Clayton Powell (film)’, ’Giancarlo Esposito’].\n",
      "Thought: To find the documentary, I can search Adam Clayton Powell (film).\n",
      "Action: Search[Adam Clayton Powell (film)]\n",
      "Observation: Adam Clayton Powell is a 1989 American documentary film directed by Richard Kilberg. The film is about the rise and fall of influential African-American politician Adam Clayton Powell Jr.[3][4] It was later aired as part of the PBS series The American Experience.\n",
      "Thought: Adam Clayton Powell (film) is a documentary about an African-American politician, not Finnish rock groups. So the documentary about Finnish rock groups must instead be The Saimaa Gesture.\n",
      "Action: Finish[The Saimaa Gesture]\n",
      "\n",
      "Question: What profession does Nicholas Ray and Elia Kazan have in common?\n",
      "Thought: I need to search Nicholas Ray and Elia Kazan, find their professions, then find the profession they have in common.\n",
      "Action: Search[Nicholas Ray]\n",
      "Observation: Nicholas Ray (born Raymond Nicholas Kienzle Jr., August 7, 1911 - June 16, 1979) was an American film director, screenwriter, and actor best known for the 1955 film Rebel Without a Cause.\n",
      "Thought: Professions of Nicholas Ray are director, screenwriter, and actor. I need to search Elia Kazan next and find his professions.\n",
      "Action: Search[Elia Kazan]\n",
      "Observation: Elia Kazan was an American film and theatre director, producer, screenwriter and actor.\n",
      "Thought: Professions of Elia Kazan are director, producer, screenwriter, and actor. So profession Nicholas Ray and Elia Kazan have in common is director, screenwriter, and actor.\n",
      "Action: Finish[director, screenwriter, actor]\n",
      "\n",
      "Question: Which magazine was started first Arthur’s Magazine or First for Women?\n",
      "Thought: I need to search Arthur’s Magazine and First for Women, and find which was started first.\n",
      "Action: Search[Arthur’s Magazine]\n",
      "Observation: Arthur’s Magazine (1844-1846) was an American literary periodical published in Philadelphia in the 19th century.\n",
      "Thought: Arthur’s Magazine was started in 1844. I need to search First for Women next.\n",
      "Action: Search[First for Women]\n",
      "Observation: First for Women is a woman’s magazine published by Bauer Media Group in the USA.[1] The magazine was started in 1989.\n",
      "Thought: First for Women was started in 1989. 1844 (Arthur’s Magazine) < 1989 (First for Women), so Arthur’s Magazine was started first.\n",
      "Action: Finish[Arthur’s Magazine]\n",
      "\n",
      "Question: Were Pavel Urysohn and Leonid Levin known for the same type of work?\n",
      "Thought: I need to search Pavel Urysohn and Leonid Levin, find their types of work, then find if they are the same.\n",
      "Action: Search[Pavel Urysohn]\n",
      "Observation: Pavel Samuilovich Urysohn (February 3, 1898 - August 17, 1924) was a Soviet mathematician who is best known for his contributions in dimension theory.\n",
      "Thought: Pavel Urysohn is a mathematician. I need to search Leonid Levin next and find its type of work.\n",
      "Action: Search[Leonid Levin]\n",
      "Observation: Leonid Anatolievich Levin is a Soviet-American mathematician and computer scientist.\n",
      "Thought: Leonid Levin is a mathematician and computer scientist. So Pavel Urysohn and Leonid Levin have the same type of work.\n",
      "Action: Finish[yes]\n",
      "\n",
      "\n",
      "Question: {input}\n",
      "{agent_scratchpad}\n"
     ]
    }
   ],
   "source": [
    "print(docstore_agent.agent.llm_chain.prompt.template)"
   ]
  },
  {
   "cell_type": "code",
   "execution_count": 67,
   "id": "c266be10-663c-4d81-b4c8-704b5113202b",
   "metadata": {},
   "outputs": [],
   "source": [
    "import os\n",
    "from dotenv import find_dotenv, load_dotenv\n",
    "import openai\n",
    "from langchain.llms import OpenAI\n",
    "from langchain.agents import Tool, initialize_agent, load_tools\n",
    "\n",
    "from langchain.prompts import PromptTemplate\n",
    "from langchain.memory import ConversationBufferMemory"
   ]
  },
  {
   "cell_type": "code",
   "execution_count": 34,
   "id": "91a94e71-9b07-42b2-9823-0cf89407638f",
   "metadata": {},
   "outputs": [],
   "source": [
    "# memory\n",
    "memory = ConversationBufferMemory(memory_key=\"chat_history\", return_messages=True)"
   ]
  },
  {
   "cell_type": "code",
   "execution_count": 35,
   "id": "46343862-edda-42d2-8f5c-a645a1c7bfc8",
   "metadata": {},
   "outputs": [],
   "source": [
    "# Second Generic Tool\n",
    "prompt = PromptTemplate(\n",
    "    input_variables=[\"query\"],\n",
    "    template=\"{query}\"\n",
    ")"
   ]
  },
  {
   "cell_type": "code",
   "execution_count": 36,
   "id": "03112670-e617-4930-a150-44413876cdad",
   "metadata": {},
   "outputs": [],
   "source": [
    "llm_chain = prompt | llm"
   ]
  },
  {
   "cell_type": "code",
   "execution_count": 38,
   "id": "2a288533-39c1-4025-9370-63fc2c1457f4",
   "metadata": {},
   "outputs": [],
   "source": [
    "# Initialize the LLM Tool\n",
    "llm_tool = Tool(\n",
    "    name=\"Language Model\",\n",
    "    func=llm_chain.invoke,\n",
    "    description=\"Use this tool for general queries and logic\"\n",
    ")\n",
    " \n",
    "tools = load_tools(\n",
    "    ['llm-math'],\n",
    "    llm=llm\n",
    ")"
   ]
  },
  {
   "cell_type": "code",
   "execution_count": 39,
   "id": "27d3f228-1387-48d3-ac4f-f68263c7e92c",
   "metadata": {},
   "outputs": [],
   "source": [
    "tools.append(llm_tool) # adding the new tool to our tools list\n"
   ]
  },
  {
   "cell_type": "code",
   "execution_count": 44,
   "id": "9c3d4353-164a-4c45-aaaf-9416106f5d9e",
   "metadata": {},
   "outputs": [],
   "source": [
    "# Conversational Agent\n",
    "conversational_agent = initialize_agent(\n",
    "    agent=\"conversational-react-description\",\n",
    "    tools=tools,\n",
    "    llm=llm,\n",
    "    verbose=True,\n",
    "    max_iterations=4,\n",
    "    memory=memory\n",
    ")"
   ]
  },
  {
   "cell_type": "code",
   "execution_count": 45,
   "id": "da2a1d58-7c65-4848-ab31-0d63a8fce797",
   "metadata": {},
   "outputs": [],
   "source": [
    "query = \"How old is a person born in 1917 in 2023\""
   ]
  },
  {
   "cell_type": "code",
   "execution_count": 46,
   "id": "4e6b1e85-cebb-42cf-9c72-495d9a4facef",
   "metadata": {},
   "outputs": [
    {
     "name": "stdout",
     "output_type": "stream",
     "text": [
      "Assistant is a large language model trained by OpenAI.\n",
      "\n",
      "Assistant is designed to be able to assist with a wide range of tasks, from answering simple questions to providing in-depth explanations and discussions on a wide range of topics. As a language model, Assistant is able to generate human-like text based on the input it receives, allowing it to engage in natural-sounding conversations and provide responses that are coherent and relevant to the topic at hand.\n",
      "\n",
      "Assistant is constantly learning and improving, and its capabilities are constantly evolving. It is able to process and understand large amounts of text, and can use this knowledge to provide accurate and informative responses to a wide range of questions. Additionally, Assistant is able to generate its own text based on the input it receives, allowing it to engage in discussions and provide explanations and descriptions on a wide range of topics.\n",
      "\n",
      "Overall, Assistant is a powerful tool that can help with a wide range of tasks and provide valuable insights and information on a wide range of topics. Whether you need help with a specific question or just want to have a conversation about a particular topic, Assistant is here to assist.\n",
      "\n",
      "TOOLS:\n",
      "------\n",
      "\n",
      "Assistant has access to the following tools:\n",
      "\n",
      "> Calculator: Useful for when you need to answer questions about math.\n",
      "> Language Model: Use this tool for general queries and logic\n",
      "\n",
      "To use a tool, please use the following format:\n",
      "\n",
      "```\n",
      "Thought: Do I need to use a tool? Yes\n",
      "Action: the action to take, should be one of [Calculator, Language Model]\n",
      "Action Input: the input to the action\n",
      "Observation: the result of the action\n",
      "```\n",
      "\n",
      "When you have a response to say to the Human, or if you do not need to use a tool, you MUST use the format:\n",
      "\n",
      "```\n",
      "Thought: Do I need to use a tool? No\n",
      "AI: [your response here]\n",
      "```\n",
      "\n",
      "Begin!\n",
      "\n",
      "Previous conversation history:\n",
      "{chat_history}\n",
      "\n",
      "New input: {input}\n",
      "{agent_scratchpad}\n"
     ]
    }
   ],
   "source": [
    "print(conversational_agent.agent.llm_chain.prompt.template)"
   ]
  },
  {
   "cell_type": "code",
   "execution_count": 48,
   "id": "0eeeb9b1-ab2e-4845-9a71-f408753aa4bf",
   "metadata": {
    "scrolled": true
   },
   "outputs": [
    {
     "name": "stdout",
     "output_type": "stream",
     "text": [
      "\n",
      "\n",
      "\u001b[1m> Entering new AgentExecutor chain...\u001b[0m\n",
      "\u001b[32;1m\u001b[1;3mThought: Do I need to use a tool? No\n",
      "AI: A person born in 1917 would be 106 years old in 2023. \n",
      "\u001b[0m\n",
      "\n",
      "\u001b[1m> Finished chain.\u001b[0m\n",
      "A person born in 1917 would be 106 years old in 2023.\n"
     ]
    }
   ],
   "source": [
    "result = conversational_agent(query)\n",
    "print(result['output'])\n"
   ]
  },
  {
   "cell_type": "code",
   "execution_count": 55,
   "id": "274fbbdf-2c2a-4f27-a79c-ef63eaa1f0d8",
   "metadata": {},
   "outputs": [],
   "source": [
    "query_two = \"How old would that person be if their age is multiplied by 100 and add resulte this 159*857?\""
   ]
  },
  {
   "cell_type": "code",
   "execution_count": 56,
   "id": "db74ad8c-9330-44e7-9b51-1a0d11092e00",
   "metadata": {},
   "outputs": [
    {
     "name": "stdout",
     "output_type": "stream",
     "text": [
      "\n",
      "\n",
      "\u001b[1m> Entering new AgentExecutor chain...\u001b[0m\n",
      "\u001b[32;1m\u001b[1;3mThought: Do I need to use a tool? Yes\n",
      "Action: Calculator\n",
      "Action Input: 159 * 857\u001b[0m\n",
      "Observation: \u001b[36;1m\u001b[1;3mAnswer: 136263\u001b[0m\n",
      "Thought:\u001b[32;1m\u001b[1;3mThought: Do I need to use a tool? Yes\n",
      "Action: Calculator\n",
      "Action Input: 10659 * 136263\u001b[0m\n",
      "Observation: \u001b[36;1m\u001b[1;3mAnswer: 1452427317\u001b[0m\n",
      "Thought:\u001b[32;1m\u001b[1;3mThought: Do I need to use a tool? No\n",
      "AI: That person would be 1,452,427,317 years old. \n",
      "\u001b[0m\n",
      "\n",
      "\u001b[1m> Finished chain.\u001b[0m\n",
      "That person would be 1,452,427,317 years old.\n"
     ]
    }
   ],
   "source": [
    "results = conversational_agent(query_two)\n",
    "print(results['output'])"
   ]
  }
 ],
 "metadata": {
  "kernelspec": {
   "display_name": "env_langchain",
   "language": "python",
   "name": "env_langchain"
  },
  "language_info": {
   "codemirror_mode": {
    "name": "ipython",
    "version": 3
   },
   "file_extension": ".py",
   "mimetype": "text/x-python",
   "name": "python",
   "nbconvert_exporter": "python",
   "pygments_lexer": "ipython3",
   "version": "3.10.16"
  },
  "widgets": {
   "application/vnd.jupyter.widget-state+json": {
    "state": {},
    "version_major": 2,
    "version_minor": 0
   }
  }
 },
 "nbformat": 4,
 "nbformat_minor": 5
}
